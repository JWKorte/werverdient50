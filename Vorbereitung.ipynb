{
 "cells": [
  {
   "cell_type": "markdown",
   "source": [
    "# Wer verdient 50k?"
   ],
   "metadata": {}
  },
  {
   "cell_type": "raw",
   "source": [
    "# Import der benutzen Bibliotheken"
   ],
   "metadata": {}
  },
  {
   "cell_type": "code",
   "execution_count": null,
   "source": [
    "# Arbeitsbibliotheken\r\n",
    "import numpy as np\r\n",
    "import pandas as pd\r\n",
    "import time\r\n",
    "# Visualisierungsbibliotheken\r\n",
    "import matplotlib.pyplot as plt\r\n",
    "import seaborn as sns"
   ],
   "outputs": [],
   "metadata": {}
  },
  {
   "cell_type": "raw",
   "source": [
    "# Laden des Datensatzes und Preprocessing"
   ],
   "metadata": {}
  },
  {
   "cell_type": "code",
   "execution_count": null,
   "source": [
    "# Spaltennamen händisch aus der Dokumentation kopiert\r\n",
    "heads = [\"age\",\"workclass\",\"fnlwgt\",\"education\",\"education-num\",\"marital-status\",\"occupation\",\"relationship\",\"race\",\"sex\",\"capital-gain\",\"capital-loss\",\"hours-per-week\",\"native-country\",\"target\"]\r\n",
    "# Herunterladen der Daten\r\n",
    "censusdatatrain = pd.read_csv(\"https://archive.ics.uci.edu/ml/machine-learning-databases/adult/adult.data\", names=heads)\r\n",
    "censusdatatest = pd.read_csv(\"https://archive.ics.uci.edu/ml/machine-learning-databases/adult/adult.test\", names=heads, header=0)\r\n",
    "# Speichern der Daten für die Maschine Learning Algorithmen\r\n",
    "censusdatatrain.to_csv(\"adult.data\")\r\n",
    "censusdatatest.to_csv(\"adult.test\")\r\n",
    "# Zusammenführen der Daten für die deskriptive Analyse\r\n",
    "censusdata = censusdatatrain.append(censusdatatest, ignore_index=True)"
   ],
   "outputs": [],
   "metadata": {}
  },
  {
   "cell_type": "code",
   "execution_count": null,
   "source": [
    "# Recodierung der Variablen\r\n",
    "# Workclass\r\n",
    "censusdata[\"workclass\"] = censusdata[\"workclass\"].replace(to_replace=[\" Self-emp-not-inc\", \" Self-emp-inc\"], value=\"Selfemp\")\r\n",
    "censusdata[\"workclass\"] = censusdata[\"workclass\"].replace(to_replace=[\" Local-gov\", \" State-gov\", \" Federal-gov\"], value=\"Goverm\")\r\n",
    "censusdata[\"workclass\"] = censusdata[\"workclass\"].replace(to_replace=[\" ?\", \" Without-pay\", \" Never-worked\"], value=\"Residualwc\")\r\n",
    "# Education\r\n",
    "censusdata[\"education\"] = censusdata[\"education\"].replace(to_replace=[\" Masters\",\" Doctorate\"], value=\"higher_academic\")\r\n",
    "censusdata[\"education\"] = censusdata[\"education\"].replace(to_replace=[\" Assoc-voc\", \" Assoc-acdm\",\" Prof-school\"], value=\"Other\")\r\n",
    "censusdata[\"education\"] = censusdata[\"education\"].replace(to_replace=[\" Preschool\", \" 1st-4th\", \" 5th-6th\",\" 7th-8th\", \" 9th\", \" 10th\", \" 11th\", \" 12th\"], value=\"Dropout\")\r\n",
    "# native country\r\n",
    "censusdata[\"native-country\"] = [\"US\" if x==\" United-States\" or x==\" Outlying-US(Guam-USVI-etc)\" else \"not_US\" for x in censusdata[\"native-country\"]]\r\n",
    "# marital-status\r\n",
    "censusdata[\"marital-status\"] = censusdata[\"marital-status\"].replace(to_replace=[\" Married-civ-spouse\",\" Married-spouse-absent\",\" Married-AF-spouse\"], value=\"married\")\r\n",
    "censusdata[\"marital-status\"] = censusdata[\"marital-status\"].replace(to_replace=[\" Divorced\",\" Separated\",\" Widowed\"], value=\"separated\")\r\n",
    "# race\r\n",
    "censusdata[\"race\"] = censusdata[\"race\"].replace(to_replace=[\" Other\",\" Amer-Indian-Eskimo\",\" Asian-Pac-Islander\"], value=\"other_race\")\r\n",
    "# occupation\r\n",
    "censusdata[\"occupation\"] = censusdata[\"occupation\"].replace(to_replace=[\" Armed-Forces\", \" Protective-serv\"], value=\"Security\")\r\n",
    "censusdata[\"occupation\"] = censusdata[\"occupation\"].replace(to_replace=[\" Other-service\", \" Priv-house-serv\", \" ?\"], value=\"Other_Services\")\r\n",
    "# capital-gain\r\n",
    "censusdata[\"oacgain\"] = [1 if x>=censusdata[\"capital-gain\"][censusdata[\"capital-gain\"]>0].median() else 0 for x in censusdata[\"capital-gain\"]]\r\n",
    "# capital-loss\r\n",
    "censusdata[\"oacloss\"] = [1 if x>=censusdata[\"capital-loss\"][censusdata[\"capital-loss\"]>0].median() else 0 for x in censusdata[\"capital-loss\"]]\r\n",
    "# age\r\n",
    "censusdata[\"oaage\"] = [1 if x>=censusdata[\"age\"].median() else 0 for x in censusdata[\"age\"]]\r\n",
    "# hours per week\r\n",
    "censusdata[\"oahpw\"] = [1 if x>=censusdata[\"hours-per-week\"][censusdata[\"hours-per-week\"]>0].median() else 0 for x in censusdata[\"hours-per-week\"]]\r\n",
    "# Target\r\n",
    "censusdata[\"target\"] = censusdata[\"target\"].replace(\" >50K\",\" >50K.\").replace(\" <=50K\",\" <=50K.\")"
   ],
   "outputs": [],
   "metadata": {}
  },
  {
   "cell_type": "raw",
   "source": [
    "# Deskriptive Analyse"
   ],
   "metadata": {}
  },
  {
   "cell_type": "code",
   "execution_count": null,
   "source": [
    "# Baseline aller Daten\r\n",
    "print(\"Baseline aller Daten:\", censusdata[\"target\"].replace(\" >50K\",\" >50K.\").replace(\" <=50K\",\" <=50K.\").value_counts().max()/len(censusdata)*100)"
   ],
   "outputs": [],
   "metadata": {}
  },
  {
   "cell_type": "code",
   "execution_count": null,
   "source": [
    "# Schaubilder der Variablen mit Einkommensverteilung\r\n",
    "headskk = [\"workclass\",\"education\",\"occupation\"]\r\n",
    "headskb = [\"race\",\"sex\",\"native-country\",\"marital-status\",\"oacgain\",\"oacloss\",\"oahpw\", \"oaage\"]\r\n",
    "figure_list1=[\"wc.png\",\"edu.png\",\"occ.png\"]\r\n",
    "figure_list2=[\"race.png\",\"sex.png\",\"nc.png\",\"ms.png\",\"cgain.png\",\"closs.png\",\"hpw.png\",\"oaage.png\"]\r\n",
    "for variable, figure in zip(headskk,figure_list1):    \r\n",
    "    plt.figure(figsize=(20,5))\r\n",
    "    sns.countplot(x=censusdata[variable], hue=censusdata[\"target\"])\r\n",
    "    plt.savefig(figure)\r\n",
    "    plt.show()\r\n",
    "for variable, figure in zip(headskb,figure_list2):    \r\n",
    "    plt.figure(figsize=(10,5))\r\n",
    "    sns.countplot(x=censusdata[variable], hue=censusdata[\"target\"])\r\n",
    "    plt.savefig(figure)\r\n",
    "    plt.show()"
   ],
   "outputs": [],
   "metadata": {}
  },
  {
   "cell_type": "code",
   "execution_count": null,
   "source": [
    "# Kreuztabellen der Variablen mit Einkommen\r\n",
    "for x in headskk:\r\n",
    "    display(pd.crosstab(index=censusdata[x], columns=censusdata[\"target\"], margins=False).apply(lambda zeile: zeile/zeile.sum(), axis=1))\r\n",
    "for x in headskb:\r\n",
    "    display(pd.crosstab(index=censusdata[x], columns=censusdata[\"target\"], margins=False).apply(lambda zeile: zeile/zeile.sum(), axis=1))    "
   ],
   "outputs": [],
   "metadata": {}
  }
 ],
 "metadata": {
  "kernelspec": {
   "display_name": "Python 3 (ipykernel)",
   "language": "python",
   "name": "python3"
  },
  "language_info": {
   "codemirror_mode": {
    "name": "ipython",
    "version": 3
   },
   "file_extension": ".py",
   "mimetype": "text/x-python",
   "name": "python",
   "nbconvert_exporter": "python",
   "pygments_lexer": "ipython3",
   "version": "3.8.8"
  }
 },
 "nbformat": 4,
 "nbformat_minor": 5
}