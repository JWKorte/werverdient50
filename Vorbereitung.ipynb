{
 "cells": [
  {
   "cell_type": "markdown",
   "id": "066aa095-582a-4d9b-b7af-fd967f982e03",
   "metadata": {},
   "source": [
    "# Wer verdient 50k?"
   ]
  },
  {
   "cell_type": "raw",
   "id": "5539e497-49cd-4c60-815a-0c2d5093e98c",
   "metadata": {},
   "source": [
    "# Import der benutzen Bibliotheken"
   ]
  },
  {
   "cell_type": "code",
   "execution_count": null,
   "id": "ef98682d-e010-408b-b008-f6f90cdb70ed",
   "metadata": {},
   "outputs": [],
   "source": [
    "# Arbeitsbibliotheken\n",
    "import numpy as np\n",
    "import pandas as pd\n",
    "import time\n",
    "# Visualisierungsbibliotheken\n",
    "import matplotlib.pyplot as plt\n",
    "import seaborn as sns"
   ]
  },
  {
   "cell_type": "raw",
   "id": "f6a16eb7-7c29-4282-9c3f-8ce87ec332be",
   "metadata": {},
   "source": [
    "# Laden des Datensatzes und Preprocessing"
   ]
  },
  {
   "cell_type": "code",
   "execution_count": null,
   "id": "0c4f01f6-b353-48a2-958d-282228f16d25",
   "metadata": {},
   "outputs": [],
   "source": [
    "# Spaltennamen händisch aus der Dokumentation kopiert\n",
    "heads = [\"age\",\"workclass\",\"fnlwgt\",\"education\",\"education-num\",\"marital-status\",\"occupation\",\"relationship\",\"race\",\"sex\",\"capital-gain\",\"capital-loss\",\"hours-per-week\",\"native-country\",\"target\"]\n",
    "# Herunterladen der Daten\n",
    "censusdatatrain = pd.read_csv(\"https://archive.ics.uci.edu/ml/machine-learning-databases/adult/adult.data\", names=heads)\n",
    "censusdatatest = pd.read_csv(\"https://archive.ics.uci.edu/ml/machine-learning-databases/adult/adult.test\", names=heads, header=0)\n",
    "# Speichern der Daten für die Maschine Learning Algorithmen\n",
    "censusdatatrain.to_csv(\"adult.data\")\n",
    "censusdatatest.to_csv(\"adult.test\")\n",
    "# Zusammenführen der Daten für die deskriptive Analyse\n",
    "censusdata = censusdatatrain.append(censusdatatest, ignore_index=True)"
   ]
  },
  {
   "cell_type": "code",
   "execution_count": null,
   "id": "8590a564-f548-4d4c-9b9a-0a937d23e38b",
   "metadata": {},
   "outputs": [],
   "source": [
    "# Recodierung der Variablen\n",
    "# Workclass\n",
    "censusdata[\"workclass\"] = censusdata[\"workclass\"].replace(to_replace=[\" Self-emp-not-inc\", \" Self-emp-inc\"], value=\"Selfemp\")\n",
    "censusdata[\"workclass\"] = censusdata[\"workclass\"].replace(to_replace=[\" Local-gov\", \" State-gov\", \" Federal-gov\"], value=\"Goverm\")\n",
    "censusdata[\"workclass\"] = censusdata[\"workclass\"].replace(to_replace=[\" ?\", \" Without-pay\", \" Never-worked\"], value=\"Residualwc\")\n",
    "# Education\n",
    "censusdata[\"education\"] = censusdata[\"education\"].replace(to_replace=[\" Masters\",\" Doctorate\"], value=\"higher_academic\")\n",
    "censusdata[\"education\"] = censusdata[\"education\"].replace(to_replace=[\" Assoc-voc\", \" Assoc-acdm\",\" Prof-school\"], value=\"Other\")\n",
    "censusdata[\"education\"] = censusdata[\"education\"].replace(to_replace=[\" Preschool\", \" 1st-4th\", \" 5th-6th\",\" 7th-8th\", \" 9th\", \" 10th\", \" 11th\", \" 12th\"], value=\"Dropout\")\n",
    "# native country\n",
    "censusdata[\"native-country\"] = [\"US\" if x==\" United-States\" or x==\" Outlying-US(Guam-USVI-etc)\" else \"not_US\" for x in censusdata[\"native-country\"]]\n",
    "# marital-status\n",
    "censusdata[\"marital-status\"] = censusdata[\"marital-status\"].replace(to_replace=[\" Married-civ-spouse\",\" Married-spouse-absent\",\" Married-AF-spouse\"], value=\"married\")\n",
    "censusdata[\"marital-status\"] = censusdata[\"marital-status\"].replace(to_replace=[\" Divorced\",\" Separated\",\" Widowed\"], value=\"separated\")\n",
    "# race\n",
    "censusdata[\"race\"] = censusdata[\"race\"].replace(to_replace=[\" Other\",\" Amer-Indian-Eskimo\",\" Asian-Pac-Islander\"], value=\"other_race\")\n",
    "# occupation\n",
    "censusdata[\"occupation\"] = censusdata[\"occupation\"].replace(to_replace=[\" Armed-Forces\", \" Protective-serv\"], value=\"Security\")\n",
    "censusdata[\"occupation\"] = censusdata[\"occupation\"].replace(to_replace=[\" Other-service\", \" Priv-house-serv\", \" ?\"], value=\"Other_Services\")\n",
    "# capital-gain\n",
    "censusdata[\"oacgain\"] = [1 if x>=censusdata[\"capital-gain\"][censusdata[\"capital-gain\"]>0].median() else 0 for x in censusdata[\"capital-gain\"]]\n",
    "# capital-loss\n",
    "censusdata[\"oacloss\"] = [1 if x>=censusdata[\"capital-loss\"][censusdata[\"capital-loss\"]>0].median() else 0 for x in censusdata[\"capital-loss\"]]\n",
    "# age\n",
    "censusdata[\"oaage\"] = [1 if x>=censusdata[\"age\"].median() else 0 for x in censusdata[\"age\"]]\n",
    "# hours per week\n",
    "censusdata[\"oahpw\"] = [1 if x>=censusdata[\"hours-per-week\"][censusdata[\"hours-per-week\"]>0].median() else 0 for x in censusdata[\"hours-per-week\"]]\n",
    "# Target\n",
    "censusdata[\"target\"] = censusdata[\"target\"].replace(\" >50K\",\" >50K.\").replace(\" <=50K\",\" <=50K.\")"
   ]
  },
  {
   "cell_type": "raw",
   "id": "92534546-a0ac-4a20-b8e7-156802c26cdb",
   "metadata": {},
   "source": [
    "# Deskriptive Analyse"
   ]
  },
  {
   "cell_type": "code",
   "execution_count": null,
   "id": "6944385b-9d5a-4797-807c-a6621986d45c",
   "metadata": {},
   "outputs": [],
   "source": [
    "# Baseline aller Daten\n",
    "print(\"Baseline aller Daten:\", censusdata[\"target\"].replace(\" >50K\",\" >50K.\").replace(\" <=50K\",\" <=50K.\").value_counts().max()/len(censusdata)*100)"
   ]
  },
  {
   "cell_type": "code",
   "execution_count": null,
   "id": "80d9d014-a4b3-418d-aeeb-b22431918ce4",
   "metadata": {},
   "outputs": [],
   "source": [
    "# Schaubilder der Variablen mit Einkommensverteilung\n",
    "headskk = [\"workclass\",\"education\",\"occupation\"]\n",
    "headskb = [\"race\",\"sex\",\"native-country\",\"marital-status\",\"oacgain\",\"oacloss\",\"oahpw\"]\n",
    "figure_list1=[\"wc.png\",\"edu.png\",\"occ.png\"]\n",
    "figure_list2=[\"race.png\",\"sex.png\",\"nc.png\",\"ms.png\",\"cgain.png\",\"closs.png\",\"hpw.png\"]\n",
    "for variable, figure in zip(headskk,figure_list1):    \n",
    "    plt.figure(figsize=(20,5))\n",
    "    sns.countplot(x=censusdata[variable], hue=censusdata[\"target\"])\n",
    "    plt.savefig(figure)\n",
    "    plt.show()\n",
    "for variable, figure in zip(headskb,figure_list2):    \n",
    "    plt.figure(figsize=(10,5))\n",
    "    sns.countplot(x=censusdata[variable], hue=censusdata[\"target\"])\n",
    "    plt.savefig(figure)\n",
    "    plt.show()"
   ]
  },
  {
   "cell_type": "code",
   "execution_count": null,
   "id": "e616b49e-fb2a-4eba-89dc-5e0d6277b38c",
   "metadata": {},
   "outputs": [],
   "source": [
    "# Kreuztabellen der Variablen mit Einkommen\n",
    "for x in headskk:\n",
    "    display(pd.crosstab(index=censusdata[x], columns=censusdata[\"target\"], margins=False).apply(lambda zeile: zeile/zeile.sum(), axis=1))\n",
    "for x in headskb:\n",
    "    display(pd.crosstab(index=censusdata[x], columns=censusdata[\"target\"], margins=False).apply(lambda zeile: zeile/zeile.sum(), axis=1))    "
   ]
  }
 ],
 "metadata": {
  "kernelspec": {
   "display_name": "Python 3 (ipykernel)",
   "language": "python",
   "name": "python3"
  },
  "language_info": {
   "codemirror_mode": {
    "name": "ipython",
    "version": 3
   },
   "file_extension": ".py",
   "mimetype": "text/x-python",
   "name": "python",
   "nbconvert_exporter": "python",
   "pygments_lexer": "ipython3",
   "version": "3.8.8"
  }
 },
 "nbformat": 4,
 "nbformat_minor": 5
}
